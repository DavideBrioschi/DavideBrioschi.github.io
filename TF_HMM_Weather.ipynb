{
  "nbformat": 4,
  "nbformat_minor": 0,
  "metadata": {
    "colab": {
      "provenance": [],
      "authorship_tag": "ABX9TyOHGjBGT0PYXUnqKqiq+tCD"
    },
    "kernelspec": {
      "name": "python3",
      "display_name": "Python 3"
    },
    "language_info": {
      "name": "python"
    }
  },
  "cells": [
    {
      "cell_type": "code",
      "execution_count": null,
      "metadata": {
        "id": "8QBv_X-revus"
      },
      "outputs": [],
      "source": [
        "# L'obiettivo qui è quello di predire eventi futuri basati su eventi del passato\n",
        "import tensorflow as tf\n",
        "import tensorflow_probability as tfp"
      ]
    },
    {
      "cell_type": "code",
      "source": [
        "\"\"\"\n",
        "Conoscendo la probabile distribuzione, utilizzando l'Hidden Markov Model,\n",
        "possiamo quindi predire il tempo della prossima settimana (temperatura media). Determiniamo quindi che\n",
        "\n",
        "1. I giorni freddi vengono identificati con 0 e i giorni caldi con 1\n",
        "2. Il primo giorno in sequenza ha il 70% di essere freddo\n",
        "3. Un giorno freddo ha il 70% di essere seguito da un giorno caldo (30% da freddo a freddo)\n",
        "4. Un giorno caldo ha il 20% di essere seguito da un giorno freddo (80% da caldo a caldo)\n",
        "5. Le temperature di tutti i giorni sono normalmente distribuite: in un giorno freddo\n",
        "una media di 0° ed una deviazione standard di 5° e in un giorno caldo media 15° e dev 10°\n",
        "\"\"\""
      ],
      "metadata": {
        "id": "LKG4CwQT0fUw"
      },
      "execution_count": null,
      "outputs": []
    },
    {
      "cell_type": "code",
      "source": [
        "tfd = tfp.distributions\n",
        "initial_distribution = tfd.Categorical(probs=[0.7, 0.3]) #punto 2\n",
        "transition_distribution = tfd.Categorical(probs=[[0.7, 0.3],\n",
        "                                                 [0.2, 0.8]]) #punto 3 e 4\n",
        "\n",
        "observation_distribution = tfd.Normal(loc=[0., 15.], scale=[5., 10.]) #punto 5"
      ],
      "metadata": {
        "id": "bITQEw2s0fKQ"
      },
      "execution_count": null,
      "outputs": []
    },
    {
      "cell_type": "code",
      "source": [
        "#Creiamo il modello di Markov Nascosto combinando la distribuzione\n",
        "model = tfd.HiddenMarkovModel(\n",
        "    initial_distribution=initial_distribution,\n",
        "    transition_distribution=transition_distribution,\n",
        "    observation_distribution=observation_distribution,\n",
        "    num_steps=7) #quanti giorni vogliamo predire"
      ],
      "metadata": {
        "id": "jFnoi5R173LT"
      },
      "execution_count": null,
      "outputs": []
    },
    {
      "cell_type": "code",
      "source": [
        "# Le temperature che ci aspettiamo nella prossima settimana sono:\n",
        "mean = model.mean()\n",
        "with tf.compat.v1.Session() as sess:\n",
        "  print(mean.numpy())"
      ],
      "metadata": {
        "colab": {
          "base_uri": "https://localhost:8080/"
        },
        "id": "F-ftYIiO-Fzx",
        "outputId": "90b2d071-7232-4982-f4ee-98fd7bd2da7d"
      },
      "execution_count": null,
      "outputs": [
        {
          "output_type": "stream",
          "name": "stdout",
          "text": [
            "[4.4999995 6.75      7.8749995 8.437499  8.718748  8.859374  8.9296875]\n"
          ]
        }
      ]
    }
  ]
}